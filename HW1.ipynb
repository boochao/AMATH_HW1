{
 "cells": [
  {
   "cell_type": "code",
   "execution_count": 1,
   "id": "66eeac30",
   "metadata": {},
   "outputs": [],
   "source": [
    "# Aaron Ngo AMATH301 HW1 "
   ]
  },
  {
   "cell_type": "code",
   "execution_count": 4,
   "id": "cd8133ce",
   "metadata": {},
   "outputs": [],
   "source": [
    "import numpy as np\n",
    "import matplotlib.pyplot as plt"
   ]
  },
  {
   "cell_type": "code",
   "execution_count": 23,
   "id": "592d2ca4",
   "metadata": {},
   "outputs": [],
   "source": [
    "sum = 1000\n",
    "for i in range (0,10000):\n",
    "    sum = sum - 0.1\n",
    "A1 = sum\n",
    "#print(A1)\n",
    "sum = 10000\n",
    "for i in range (0,100000):\n",
    "    sum = sum - 0.1\n",
    "A2 = sum\n",
    "#print(A2)\n",
    "sum = 100000\n",
    "for i in range (0,1000000):\n",
    "    sum = sum - 0.1\n",
    "A3 = sum\n",
    "#print(A3)"
   ]
  },
  {
   "cell_type": "code",
   "execution_count": 23,
   "id": "40c2efca",
   "metadata": {},
   "outputs": [],
   "source": [
    "A=np.matrix([[1,2],[-1,1]])\n",
    "B=np.matrix([[2,0],[0,2]])\n",
    "C=np.matrix([[2,0,-3],[0,0,-1]])\n",
    "D=np.matrix([[1,2],[2,3],[-1,0]])\n",
    "x=np.matrix([[1],[0]])\n",
    "y=np.matrix([[0],[1]])\n",
    "z=np.matrix([[1],[2],[-1]])\n",
    "A4 = A + B\n",
    "#print(A4)\n",
    "A5 = 3*x - 4*y\n",
    "#print(A5)\n",
    "A6 = A*x\n",
    "#print(A6)\n",
    "A7 = B*(x-y)\n",
    "#print(A7)\n",
    "A8 = D*x\n",
    "#print(A8)\n",
    "A9 = D*y + z\n",
    "#print(A9)\n",
    "A10 = A*B\n",
    "#print(A10)\n",
    "A11 = B*C\n",
    "#print(A11)\n",
    "A12 = C*D\n",
    "#print(A12)"
   ]
  },
  {
   "cell_type": "code",
   "execution_count": 54,
   "id": "ab7b0ba3",
   "metadata": {},
   "outputs": [
    {
     "name": "stdout",
     "output_type": "stream",
     "text": [
      "[[5.00000000e-01 2.00000000e-01 1.28000000e-01 8.92928000e-02\n",
      "  6.50556767e-02 4.86587485e-02 3.70328598e-02 2.85291416e-02\n",
      "  2.21721838e-02 1.73444624e-02 1.36349056e-02 1.07591960e-02\n",
      "  8.51474856e-03 6.75379809e-03 5.36654744e-03 4.27019809e-03\n",
      "  3.40157080e-03 2.71200009e-03 2.16371612e-03 1.72722756e-03\n",
      "  1.37939540e-03 1.10199413e-03 8.80623792e-04 7.03878635e-04\n",
      "  5.62706552e-04 4.49911931e-04 3.59767608e-04 2.87710540e-04\n",
      "  2.30102210e-04 1.84039411e-04 1.47204432e-04 1.17746210e-04\n",
      "  9.41858769e-05 7.53416048e-05 6.02687427e-05 4.82120883e-05\n",
      "  3.85678111e-05 3.08530589e-05 2.46816856e-05 1.97448611e-05\n",
      "  1.57955770e-05 1.26362620e-05 1.01088819e-05 8.08702375e-06\n",
      "  6.46956668e-06 5.17561986e-06 4.14047446e-06 3.31236585e-06\n",
      "  2.64988390e-06 2.11990151e-06]]\n",
      "[[5.00000000e-01 1.82500000e+00 6.66125000e+00 2.43135625e+01\n",
      "  8.87445031e+01 3.23917436e+02 1.18229864e+03 4.31539005e+03\n",
      "  1.57511737e+04 5.74917839e+04 2.09845011e+05 7.65934291e+05\n",
      "  2.79566016e+06 1.02041596e+07 3.72451825e+07 1.35944916e+08\n",
      "  4.96198944e+08 1.81112615e+09 6.61061043e+09 2.41287281e+10\n",
      "  8.80698575e+10 3.21454980e+11 1.17331068e+12 4.28258397e+12\n",
      "  1.56314315e+13 5.70547249e+13 2.08249746e+14 7.60111573e+14\n",
      "  2.77440724e+15 1.01265864e+16 3.69620405e+16 1.34911448e+17\n",
      "  4.92426784e+17 1.79735776e+18 6.56035583e+18 2.39452988e+19\n",
      "  8.74003405e+19 3.19011243e+20 1.16439104e+21 4.25002728e+21\n",
      "  1.55125996e+22 5.66209885e+22 2.06666608e+23 7.54333119e+23\n",
      "  2.75331589e+24 1.00496030e+25 3.66810509e+25 1.33885836e+26\n",
      "  4.88683300e+26 1.78369405e+27]]\n"
     ]
    }
   ],
   "source": [
    "rho = ([0.8,1.5,2.8,3.2,3.5,3.65])\n",
    "\n",
    "x1 = [0 for x in range(50)]\n",
    "x1[0] = 0.5;\n",
    "for i in range(1,50):\n",
    "    x1[i] = rho[0] * x1[i-1] * (1 - x1[i-1])\n",
    "x1 = np.array(x1)[np.newaxis]\n",
    "#print(x1)\n",
    "\n",
    "x2 = [0 for x in range(50)]\n",
    "x2[0] = 0.5;\n",
    "for i in range(1,50):\n",
    "    x2[i] = rho[1] * x2[i-1] * (1 - x2[i-1])\n",
    "x2 = np.array(x2)[np.newaxis]\n",
    "#print(x2)\n",
    "\n",
    "x3 = [0 for x in range(50)]\n",
    "x3[0] = 0.5;\n",
    "for i in range(1,50):\n",
    "    x3[i] = rho[2] * x3[i-1] * (1 - x3[-1])\n",
    "x3 = np.array(x3)[np.newaxis]\n",
    "#print(x3)\n",
    "\n",
    "x4 = [0 for x in range(50)]\n",
    "x4[0] = 0.5;\n",
    "for i in range(1,50):\n",
    "    x4[i] = rho[3] * x4[i-1] * (1 - x4[-1])\n",
    "x4 = np.array(x4)[np.newaxis]\n",
    "#print(x4)\n",
    "\n",
    "x5 = [0 for x in range(50)]\n",
    "x5[0] = 0.5;\n",
    "for i in range(1,50):\n",
    "    x5[i] = rho[4] * x5[i-1] * (1 - x5[-1])\n",
    "x5 = np.array(x5)[np.newaxis]\n",
    "#print(x5)\n",
    "\n",
    "x6 = [0 for x in range(50)]\n",
    "x6[0] = 0.5;\n",
    "for i in range(1,50):\n",
    "    x6[i] = rho[5] * x6[i-1] * (1 - x6[-1])\n",
    "x6 = np.array(x6)[np.newaxis]\n",
    "#print(x6)\n",
    "\n",
    "A13 = x1\n",
    "A14 = x2 \n",
    "A15 = x3 \n",
    "A16 = x4 \n",
    "A17 = x5 \n",
    "A18 = x6 \n"
   ]
  },
  {
   "cell_type": "code",
   "execution_count": null,
   "id": "86846463",
   "metadata": {},
   "outputs": [],
   "source": []
  },
  {
   "cell_type": "code",
   "execution_count": null,
   "id": "afd61139",
   "metadata": {},
   "outputs": [],
   "source": []
  }
 ],
 "metadata": {
  "kernelspec": {
   "display_name": "Python 3",
   "language": "python",
   "name": "python3"
  },
  "language_info": {
   "codemirror_mode": {
    "name": "ipython",
    "version": 3
   },
   "file_extension": ".py",
   "mimetype": "text/x-python",
   "name": "python",
   "nbconvert_exporter": "python",
   "pygments_lexer": "ipython3",
   "version": "3.8.8"
  }
 },
 "nbformat": 4,
 "nbformat_minor": 5
}
