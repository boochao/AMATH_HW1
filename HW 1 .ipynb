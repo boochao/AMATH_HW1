{
 "cells": [
  {
   "cell_type": "code",
   "execution_count": 1,
   "id": "66eeac30",
   "metadata": {},
   "outputs": [],
   "source": [
    "# Aaron Ngo AMATH301 HW1 "
   ]
  },
  {
   "cell_type": "code",
   "execution_count": 4,
   "id": "cd8133ce",
   "metadata": {},
   "outputs": [],
   "source": [
    "import numpy as np\n",
    "import matplotlib.pyplot as plt"
   ]
  },
  {
   "cell_type": "code",
   "execution_count": 23,
   "id": "592d2ca4",
   "metadata": {},
   "outputs": [],
   "source": [
    "sum = 1000\n",
    "for i in range (0,10000):\n",
    "    sum = sum - 0.1\n",
    "A1 = sum\n",
    "#print(A1)\n",
    "sum = 10000\n",
    "for i in range (0,100000):\n",
    "    sum = sum - 0.1\n",
    "A2 = sum\n",
    "#print(A2)\n",
    "sum = 100000\n",
    "for i in range (0,1000000):\n",
    "    sum = sum - 0.1\n",
    "A3 = sum\n",
    "#print(A3)"
   ]
  },
  {
   "cell_type": "code",
   "execution_count": 23,
   "id": "40c2efca",
   "metadata": {},
   "outputs": [],
   "source": [
    "A=np.matrix([[1,2],[-1,1]])\n",
    "B=np.matrix([[2,0],[0,2]])\n",
    "C=np.matrix([[2,0,-3],[0,0,-1]])\n",
    "D=np.matrix([[1,2],[2,3],[-1,0]])\n",
    "x=np.matrix([[1],[0]])\n",
    "y=np.matrix([[0],[1]])\n",
    "z=np.matrix([[1],[2],[-1]])\n",
    "A4 = A + B\n",
    "#print(A4)\n",
    "A5 = 3*x - 4*y\n",
    "#print(A5)\n",
    "A6 = A*x\n",
    "#print(A6)\n",
    "A7 = B*(x-y)\n",
    "#print(A7)\n",
    "A8 = D*x\n",
    "#print(A8)\n",
    "A9 = D*y + z\n",
    "#print(A9)\n",
    "A10 = A*B\n",
    "#print(A10)\n",
    "A11 = B*C\n",
    "#print(A11)\n",
    "A12 = C*D\n",
    "#print(A12)"
   ]
  },
  {
   "cell_type": "code",
   "execution_count": 39,
   "id": "ab7b0ba3",
   "metadata": {},
   "outputs": [],
   "source": [
    "rho = ([0.8,1.5,2.8,3.2,3.5,3.65])\n",
    "\n",
    "x1 = [0 for x in range(50)]\n",
    "x1[0] = 0.5;\n",
    "for i in range(1,50):\n",
    "    x1[i] = rho[0] * x1[i-1] * (1 - x1[i-1])\n",
    "#rint(x1)\n",
    "\n",
    "x2 = [0 for x in range(50)]\n",
    "x2[0] = 0.5;\n",
    "for i in range(1,50):\n",
    "    x2[i] = rho[1] * x2[i-1] * (1 - x2[i-1])\n",
    "#rint(x2)\n",
    "\n",
    "x3 = [0 for x in range(50)]\n",
    "x3[0] = 0.5;\n",
    "for i in range(1,50):\n",
    "    x3[i] = rho[2] * x3[i-1] * (1 - x3[-1])\n",
    "#print(x3)\n",
    "\n",
    "x4 = [0 for x in range(50)]\n",
    "x4[0] = 0.5;\n",
    "for i in range(1,50):\n",
    "    x4[i] = rho[3] * x4[i-1] * (1 - x4[-1])\n",
    "#print(x4)\n",
    "\n",
    "x5 = [0 for x in range(50)]\n",
    "x5[0] = 0.5;\n",
    "for i in range(1,50):\n",
    "    x5[i] = rho[4] * x5[i-1] * (1 - x5[-1])\n",
    "#print(x5)\n",
    "\n",
    "x6 = [0 for x in range(50)]\n",
    "x6[0] = 0.5;\n",
    "for i in range(1,50):\n",
    "    x6[i] = rho[5] * x6[i-1] * (1 - x6[-1])\n",
    "#print(x6)\n",
    "\n",
    "A13 = x1\n",
    "A14 = x2 \n",
    "A15 = x3 \n",
    "A16 = x4 \n",
    "A17 = x5 \n",
    "A18 = x6 \n"
   ]
  },
  {
   "cell_type": "code",
   "execution_count": null,
   "id": "86846463",
   "metadata": {},
   "outputs": [],
   "source": []
  },
  {
   "cell_type": "code",
   "execution_count": null,
   "id": "0fe81ebb",
   "metadata": {},
   "outputs": [],
   "source": []
  }
 ],
 "metadata": {
  "kernelspec": {
   "display_name": "Python 3",
   "language": "python",
   "name": "python3"
  },
  "language_info": {
   "codemirror_mode": {
    "name": "ipython",
    "version": 3
   },
   "file_extension": ".py",
   "mimetype": "text/x-python",
   "name": "python",
   "nbconvert_exporter": "python",
   "pygments_lexer": "ipython3",
   "version": "3.8.8"
  }
 },
 "nbformat": 4,
 "nbformat_minor": 5
}
